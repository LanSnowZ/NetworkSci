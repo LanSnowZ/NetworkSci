{
 "cells": [
  {
   "cell_type": "code",
   "execution_count": 1,
   "metadata": {
    "collapsed": true,
    "ExecuteTime": {
     "end_time": "2023-05-18T03:44:38.163735Z",
     "start_time": "2023-05-18T03:44:36.140489100Z"
    }
   },
   "outputs": [],
   "source": [
    "import networkx as nx  # 每个.py文件叫模块\n",
    "from matplotlib import pyplot as plt\n",
    "import time\n",
    "import pandas as pd\n",
    "import numpy as np"
   ]
  },
  {
   "cell_type": "code",
   "execution_count": 6,
   "outputs": [
    {
     "data": {
      "text/plain": "    pre_round\nid           \n0         100\n1         100\n2         100\n3         100\n4         100\n..        ...\n95        100\n96        100\n97        100\n98        100\n99        100\n\n[100 rows x 1 columns]",
      "text/html": "<div>\n<style scoped>\n    .dataframe tbody tr th:only-of-type {\n        vertical-align: middle;\n    }\n\n    .dataframe tbody tr th {\n        vertical-align: top;\n    }\n\n    .dataframe thead th {\n        text-align: right;\n    }\n</style>\n<table border=\"1\" class=\"dataframe\">\n  <thead>\n    <tr style=\"text-align: right;\">\n      <th></th>\n      <th>pre_round</th>\n    </tr>\n    <tr>\n      <th>id</th>\n      <th></th>\n    </tr>\n  </thead>\n  <tbody>\n    <tr>\n      <th>0</th>\n      <td>100</td>\n    </tr>\n    <tr>\n      <th>1</th>\n      <td>100</td>\n    </tr>\n    <tr>\n      <th>2</th>\n      <td>100</td>\n    </tr>\n    <tr>\n      <th>3</th>\n      <td>100</td>\n    </tr>\n    <tr>\n      <th>4</th>\n      <td>100</td>\n    </tr>\n    <tr>\n      <th>...</th>\n      <td>...</td>\n    </tr>\n    <tr>\n      <th>95</th>\n      <td>100</td>\n    </tr>\n    <tr>\n      <th>96</th>\n      <td>100</td>\n    </tr>\n    <tr>\n      <th>97</th>\n      <td>100</td>\n    </tr>\n    <tr>\n      <th>98</th>\n      <td>100</td>\n    </tr>\n    <tr>\n      <th>99</th>\n      <td>100</td>\n    </tr>\n  </tbody>\n</table>\n<p>100 rows × 1 columns</p>\n</div>"
     },
     "execution_count": 6,
     "metadata": {},
     "output_type": "execute_result"
    }
   ],
   "source": [
    "# 100个人 初始化每个人100块\n",
    "fortune = pd.DataFrame({'pre_round': [100 for i in range(100)]})\n",
    "fortune.index.name = 'id'\n",
    "fortune"
   ],
   "metadata": {
    "collapsed": false,
    "ExecuteTime": {
     "end_time": "2023-05-18T04:01:51.444135900Z",
     "start_time": "2023-05-18T04:01:51.415627900Z"
    }
   }
  },
  {
   "cell_type": "code",
   "execution_count": null,
   "outputs": [],
   "source": [],
   "metadata": {
    "collapsed": false
   }
  }
 ],
 "metadata": {
  "kernelspec": {
   "display_name": "Python 3",
   "language": "python",
   "name": "python3"
  },
  "language_info": {
   "codemirror_mode": {
    "name": "ipython",
    "version": 2
   },
   "file_extension": ".py",
   "mimetype": "text/x-python",
   "name": "python",
   "nbconvert_exporter": "python",
   "pygments_lexer": "ipython2",
   "version": "2.7.6"
  }
 },
 "nbformat": 4,
 "nbformat_minor": 0
}
