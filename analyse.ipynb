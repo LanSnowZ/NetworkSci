{
 "cells": [
  {
   "cell_type": "code",
   "execution_count": 5,
   "metadata": {
    "collapsed": true,
    "ExecuteTime": {
     "end_time": "2023-05-29T07:40:08.911359300Z",
     "start_time": "2023-05-29T07:40:08.876757400Z"
    }
   },
   "outputs": [],
   "source": [
    "import networkx as nx  # 每个.py文件叫模块\n",
    "from matplotlib import pyplot as plt\n",
    "import time\n",
    "import pandas as pd\n",
    "import numpy as np\n",
    "\n",
    "result = pd.read_csv('result/part_two_result.csv',index_col=0)"
   ]
  },
  {
   "cell_type": "code",
   "execution_count": 6,
   "outputs": [
    {
     "data": {
      "text/plain": "      1   20   40   60   80  100  120  140  160  180  ...  1340  1360  1380  \\\n0   100  105  120  140  150  160  172  180  186  194  ...   330   332   325   \n1   100  103  116  125  124  123  123  128  133  134  ...     0     3     3   \n2   100  122  135  148  160  183  195  210  223  237  ...   822   827   843   \n3   100   95   87   78   71   64   62   59   60   57  ...     2     0     1   \n4   100   92   80   80   79   72   66   55   50   39  ...     2     0     0   \n..  ...  ...  ...  ...  ...  ...  ...  ...  ...  ...  ...   ...   ...   ...   \n95  100  104  108  120  120  124  123  121  125  126  ...   113   113   102   \n96  100   85   70   55   36   23    4    0    0    0  ...     0     0     0   \n97  100  104  112  114  110  117  124  122  132  140  ...   324   323   324   \n98  100   96   86   75   62   51   41   35   23    6  ...     0     0     0   \n99  100   95   89   86   82   75   79   81   77   73  ...     6     1     2   \n\n    1400  1420  1440  1460  1480  1500  degree  \n0    325   323   320   317   325   325      12  \n1      1     9    15     9     5     7      10  \n2    854   861   870   882   889   901      17  \n3      0     1     1     1     0     1       6  \n4      1     2     2     2     1     1       8  \n..   ...   ...   ...   ...   ...   ...     ...  \n95   101    96    92    89    89    87      10  \n96     0     0     0     1     0     0       3  \n97   329   329   332   336   336   337      12  \n98     0     0     0     0     0     0       5  \n99     3     0     0     4     1     0       9  \n\n[100 rows x 77 columns]",
      "text/html": "<div>\n<style scoped>\n    .dataframe tbody tr th:only-of-type {\n        vertical-align: middle;\n    }\n\n    .dataframe tbody tr th {\n        vertical-align: top;\n    }\n\n    .dataframe thead th {\n        text-align: right;\n    }\n</style>\n<table border=\"1\" class=\"dataframe\">\n  <thead>\n    <tr style=\"text-align: right;\">\n      <th></th>\n      <th>1</th>\n      <th>20</th>\n      <th>40</th>\n      <th>60</th>\n      <th>80</th>\n      <th>100</th>\n      <th>120</th>\n      <th>140</th>\n      <th>160</th>\n      <th>180</th>\n      <th>...</th>\n      <th>1340</th>\n      <th>1360</th>\n      <th>1380</th>\n      <th>1400</th>\n      <th>1420</th>\n      <th>1440</th>\n      <th>1460</th>\n      <th>1480</th>\n      <th>1500</th>\n      <th>degree</th>\n    </tr>\n  </thead>\n  <tbody>\n    <tr>\n      <th>0</th>\n      <td>100</td>\n      <td>105</td>\n      <td>120</td>\n      <td>140</td>\n      <td>150</td>\n      <td>160</td>\n      <td>172</td>\n      <td>180</td>\n      <td>186</td>\n      <td>194</td>\n      <td>...</td>\n      <td>330</td>\n      <td>332</td>\n      <td>325</td>\n      <td>325</td>\n      <td>323</td>\n      <td>320</td>\n      <td>317</td>\n      <td>325</td>\n      <td>325</td>\n      <td>12</td>\n    </tr>\n    <tr>\n      <th>1</th>\n      <td>100</td>\n      <td>103</td>\n      <td>116</td>\n      <td>125</td>\n      <td>124</td>\n      <td>123</td>\n      <td>123</td>\n      <td>128</td>\n      <td>133</td>\n      <td>134</td>\n      <td>...</td>\n      <td>0</td>\n      <td>3</td>\n      <td>3</td>\n      <td>1</td>\n      <td>9</td>\n      <td>15</td>\n      <td>9</td>\n      <td>5</td>\n      <td>7</td>\n      <td>10</td>\n    </tr>\n    <tr>\n      <th>2</th>\n      <td>100</td>\n      <td>122</td>\n      <td>135</td>\n      <td>148</td>\n      <td>160</td>\n      <td>183</td>\n      <td>195</td>\n      <td>210</td>\n      <td>223</td>\n      <td>237</td>\n      <td>...</td>\n      <td>822</td>\n      <td>827</td>\n      <td>843</td>\n      <td>854</td>\n      <td>861</td>\n      <td>870</td>\n      <td>882</td>\n      <td>889</td>\n      <td>901</td>\n      <td>17</td>\n    </tr>\n    <tr>\n      <th>3</th>\n      <td>100</td>\n      <td>95</td>\n      <td>87</td>\n      <td>78</td>\n      <td>71</td>\n      <td>64</td>\n      <td>62</td>\n      <td>59</td>\n      <td>60</td>\n      <td>57</td>\n      <td>...</td>\n      <td>2</td>\n      <td>0</td>\n      <td>1</td>\n      <td>0</td>\n      <td>1</td>\n      <td>1</td>\n      <td>1</td>\n      <td>0</td>\n      <td>1</td>\n      <td>6</td>\n    </tr>\n    <tr>\n      <th>4</th>\n      <td>100</td>\n      <td>92</td>\n      <td>80</td>\n      <td>80</td>\n      <td>79</td>\n      <td>72</td>\n      <td>66</td>\n      <td>55</td>\n      <td>50</td>\n      <td>39</td>\n      <td>...</td>\n      <td>2</td>\n      <td>0</td>\n      <td>0</td>\n      <td>1</td>\n      <td>2</td>\n      <td>2</td>\n      <td>2</td>\n      <td>1</td>\n      <td>1</td>\n      <td>8</td>\n    </tr>\n    <tr>\n      <th>...</th>\n      <td>...</td>\n      <td>...</td>\n      <td>...</td>\n      <td>...</td>\n      <td>...</td>\n      <td>...</td>\n      <td>...</td>\n      <td>...</td>\n      <td>...</td>\n      <td>...</td>\n      <td>...</td>\n      <td>...</td>\n      <td>...</td>\n      <td>...</td>\n      <td>...</td>\n      <td>...</td>\n      <td>...</td>\n      <td>...</td>\n      <td>...</td>\n      <td>...</td>\n      <td>...</td>\n    </tr>\n    <tr>\n      <th>95</th>\n      <td>100</td>\n      <td>104</td>\n      <td>108</td>\n      <td>120</td>\n      <td>120</td>\n      <td>124</td>\n      <td>123</td>\n      <td>121</td>\n      <td>125</td>\n      <td>126</td>\n      <td>...</td>\n      <td>113</td>\n      <td>113</td>\n      <td>102</td>\n      <td>101</td>\n      <td>96</td>\n      <td>92</td>\n      <td>89</td>\n      <td>89</td>\n      <td>87</td>\n      <td>10</td>\n    </tr>\n    <tr>\n      <th>96</th>\n      <td>100</td>\n      <td>85</td>\n      <td>70</td>\n      <td>55</td>\n      <td>36</td>\n      <td>23</td>\n      <td>4</td>\n      <td>0</td>\n      <td>0</td>\n      <td>0</td>\n      <td>...</td>\n      <td>0</td>\n      <td>0</td>\n      <td>0</td>\n      <td>0</td>\n      <td>0</td>\n      <td>0</td>\n      <td>1</td>\n      <td>0</td>\n      <td>0</td>\n      <td>3</td>\n    </tr>\n    <tr>\n      <th>97</th>\n      <td>100</td>\n      <td>104</td>\n      <td>112</td>\n      <td>114</td>\n      <td>110</td>\n      <td>117</td>\n      <td>124</td>\n      <td>122</td>\n      <td>132</td>\n      <td>140</td>\n      <td>...</td>\n      <td>324</td>\n      <td>323</td>\n      <td>324</td>\n      <td>329</td>\n      <td>329</td>\n      <td>332</td>\n      <td>336</td>\n      <td>336</td>\n      <td>337</td>\n      <td>12</td>\n    </tr>\n    <tr>\n      <th>98</th>\n      <td>100</td>\n      <td>96</td>\n      <td>86</td>\n      <td>75</td>\n      <td>62</td>\n      <td>51</td>\n      <td>41</td>\n      <td>35</td>\n      <td>23</td>\n      <td>6</td>\n      <td>...</td>\n      <td>0</td>\n      <td>0</td>\n      <td>0</td>\n      <td>0</td>\n      <td>0</td>\n      <td>0</td>\n      <td>0</td>\n      <td>0</td>\n      <td>0</td>\n      <td>5</td>\n    </tr>\n    <tr>\n      <th>99</th>\n      <td>100</td>\n      <td>95</td>\n      <td>89</td>\n      <td>86</td>\n      <td>82</td>\n      <td>75</td>\n      <td>79</td>\n      <td>81</td>\n      <td>77</td>\n      <td>73</td>\n      <td>...</td>\n      <td>6</td>\n      <td>1</td>\n      <td>2</td>\n      <td>3</td>\n      <td>0</td>\n      <td>0</td>\n      <td>4</td>\n      <td>1</td>\n      <td>0</td>\n      <td>9</td>\n    </tr>\n  </tbody>\n</table>\n<p>100 rows × 77 columns</p>\n</div>"
     },
     "execution_count": 6,
     "metadata": {},
     "output_type": "execute_result"
    }
   ],
   "source": [
    "result"
   ],
   "metadata": {
    "collapsed": false,
    "ExecuteTime": {
     "end_time": "2023-05-29T07:40:10.177126800Z",
     "start_time": "2023-05-29T07:40:10.149103600Z"
    }
   }
  },
  {
   "cell_type": "code",
   "execution_count": 7,
   "outputs": [
    {
     "data": {
      "text/plain": "0.7924739849767151"
     },
     "execution_count": 7,
     "metadata": {},
     "output_type": "execute_result"
    }
   ],
   "source": [
    "result.degree.corr(result['1500'])"
   ],
   "metadata": {
    "collapsed": false,
    "ExecuteTime": {
     "end_time": "2023-05-29T07:41:46.068688600Z",
     "start_time": "2023-05-29T07:41:45.976106600Z"
    }
   }
  },
  {
   "cell_type": "code",
   "execution_count": 20,
   "outputs": [
    {
     "data": {
      "text/plain": "    id  fortune  percentage  cumulative_fortune  cumulative_proportion\n0   59      937      0.0937                 937                 0.0937\n1    2      901      0.0901                1838                 0.1838\n2   44      622      0.0622                2460                 0.2460\n3   12      551      0.0551                3011                 0.3011\n4   68      505      0.0505                3516                 0.3516\n..  ..      ...         ...                 ...                    ...\n95  57        0      0.0000               10000                 1.0000\n96  64        0      0.0000               10000                 1.0000\n97  65        0      0.0000               10000                 1.0000\n98  67        0      0.0000               10000                 1.0000\n99  99        0      0.0000               10000                 1.0000\n\n[100 rows x 5 columns]",
      "text/html": "<div>\n<style scoped>\n    .dataframe tbody tr th:only-of-type {\n        vertical-align: middle;\n    }\n\n    .dataframe tbody tr th {\n        vertical-align: top;\n    }\n\n    .dataframe thead th {\n        text-align: right;\n    }\n</style>\n<table border=\"1\" class=\"dataframe\">\n  <thead>\n    <tr style=\"text-align: right;\">\n      <th></th>\n      <th>id</th>\n      <th>fortune</th>\n      <th>percentage</th>\n      <th>cumulative_fortune</th>\n      <th>cumulative_proportion</th>\n    </tr>\n  </thead>\n  <tbody>\n    <tr>\n      <th>0</th>\n      <td>59</td>\n      <td>937</td>\n      <td>0.0937</td>\n      <td>937</td>\n      <td>0.0937</td>\n    </tr>\n    <tr>\n      <th>1</th>\n      <td>2</td>\n      <td>901</td>\n      <td>0.0901</td>\n      <td>1838</td>\n      <td>0.1838</td>\n    </tr>\n    <tr>\n      <th>2</th>\n      <td>44</td>\n      <td>622</td>\n      <td>0.0622</td>\n      <td>2460</td>\n      <td>0.2460</td>\n    </tr>\n    <tr>\n      <th>3</th>\n      <td>12</td>\n      <td>551</td>\n      <td>0.0551</td>\n      <td>3011</td>\n      <td>0.3011</td>\n    </tr>\n    <tr>\n      <th>4</th>\n      <td>68</td>\n      <td>505</td>\n      <td>0.0505</td>\n      <td>3516</td>\n      <td>0.3516</td>\n    </tr>\n    <tr>\n      <th>...</th>\n      <td>...</td>\n      <td>...</td>\n      <td>...</td>\n      <td>...</td>\n      <td>...</td>\n    </tr>\n    <tr>\n      <th>95</th>\n      <td>57</td>\n      <td>0</td>\n      <td>0.0000</td>\n      <td>10000</td>\n      <td>1.0000</td>\n    </tr>\n    <tr>\n      <th>96</th>\n      <td>64</td>\n      <td>0</td>\n      <td>0.0000</td>\n      <td>10000</td>\n      <td>1.0000</td>\n    </tr>\n    <tr>\n      <th>97</th>\n      <td>65</td>\n      <td>0</td>\n      <td>0.0000</td>\n      <td>10000</td>\n      <td>1.0000</td>\n    </tr>\n    <tr>\n      <th>98</th>\n      <td>67</td>\n      <td>0</td>\n      <td>0.0000</td>\n      <td>10000</td>\n      <td>1.0000</td>\n    </tr>\n    <tr>\n      <th>99</th>\n      <td>99</td>\n      <td>0</td>\n      <td>0.0000</td>\n      <td>10000</td>\n      <td>1.0000</td>\n    </tr>\n  </tbody>\n</table>\n<p>100 rows × 5 columns</p>\n</div>"
     },
     "execution_count": 20,
     "metadata": {},
     "output_type": "execute_result"
    }
   ],
   "source": [
    "percent_analyse = pd.DataFrame({'fortune':result['1500']}).sort_values(by='fortune', ascending=False).reset_index(names='id')\n",
    "total_fortune = percent_analyse.fortune.sum()\n",
    "percent_analyse['percentage'] = percent_analyse['fortune'] / total_fortune\n",
    "percent_analyse['cumulative_fortune'] = percent_analyse['fortune'].cumsum()\n",
    "percent_analyse['cumulative_proportion'] = percent_analyse['cumulative_fortune'] / total_fortune # 求累计占比\n",
    "percent_analyse"
   ],
   "metadata": {
    "collapsed": false,
    "ExecuteTime": {
     "end_time": "2023-05-29T08:17:52.545064800Z",
     "start_time": "2023-05-29T08:17:52.510536700Z"
    }
   }
  },
  {
   "cell_type": "code",
   "execution_count": null,
   "outputs": [],
   "source": [],
   "metadata": {
    "collapsed": false
   }
  }
 ],
 "metadata": {
  "kernelspec": {
   "display_name": "Python 3",
   "language": "python",
   "name": "python3"
  },
  "language_info": {
   "codemirror_mode": {
    "name": "ipython",
    "version": 2
   },
   "file_extension": ".py",
   "mimetype": "text/x-python",
   "name": "python",
   "nbconvert_exporter": "python",
   "pygments_lexer": "ipython2",
   "version": "2.7.6"
  }
 },
 "nbformat": 4,
 "nbformat_minor": 0
}
