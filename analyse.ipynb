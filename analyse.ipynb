{
 "cells": [
  {
   "cell_type": "code",
   "execution_count": 1,
   "metadata": {
    "collapsed": true,
    "ExecuteTime": {
     "end_time": "2023-05-30T08:44:38.681686800Z",
     "start_time": "2023-05-30T08:44:37.253427900Z"
    }
   },
   "outputs": [],
   "source": [
    "import networkx as nx  # 每个.py文件叫模块\n",
    "from matplotlib import pyplot as plt\n",
    "import time\n",
    "import pandas as pd\n",
    "import numpy as np\n",
    "\n",
    "result = pd.read_csv('result/part_four_result.csv',index_col=0)\n",
    "result.rename(columns={'1500':'last_round'},inplace=True)\n",
    "\n",
    "def analyse_wealth_gini_coefficient(input_result):\n",
    "    person_num = len(input_result)\n",
    "    # 查看财富最多的人占有社会多少财富\n",
    "    percent_analyse = pd.DataFrame({'degree':input_result['degree'],'fortune':input_result['last_round'],}).sort_values(by='fortune', ascending=False).reset_index(names='id')\n",
    "    total_fortune = percent_analyse.fortune.sum()\n",
    "    percent_analyse['percentage'] = percent_analyse['fortune'] / total_fortune\n",
    "    percent_analyse['cumulative_fortune'] = percent_analyse['fortune'].cumsum()\n",
    "    percent_analyse['cumulative_proportion'] = percent_analyse['cumulative_fortune'] / total_fortune # 求累计占比\n",
    "    print(percent_analyse)\n",
    "    # 求财富基尼指数 相关链接：https://zh.wikipedia.org/wiki/%E5%9F%BA%E5%B0%BC%E7%B3%BB%E6%95%B0\n",
    "    gini_analyse = pd.DataFrame({'fortune':input_result['last_round']}).sort_values(by='fortune', ascending=True).reset_index(names='id')\n",
    "    gini_analyse['cumulative_fortune'] = gini_analyse['fortune'].cumsum()\n",
    "    gini_coefficient = (person_num * total_fortune - 2*gini_analyse['cumulative_fortune'].sum()) / (person_num * total_fortune)\n",
    "    return gini_coefficient"
   ]
  },
  {
   "cell_type": "code",
   "execution_count": 3,
   "outputs": [
    {
     "data": {
      "text/plain": "0.004092729658731396"
     },
     "execution_count": 3,
     "metadata": {},
     "output_type": "execute_result"
    }
   ],
   "source": [
    "# 求相关系数\n",
    "result.degree.corr(result['last_round'])"
   ],
   "metadata": {
    "collapsed": false,
    "ExecuteTime": {
     "end_time": "2023-05-30T08:45:09.091845200Z",
     "start_time": "2023-05-30T08:45:08.917259100Z"
    }
   }
  },
  {
   "cell_type": "code",
   "execution_count": 25,
   "outputs": [
    {
     "name": "stdout",
     "output_type": "stream",
     "text": [
      "    id  fortune  percentage  cumulative_fortune  cumulative_proportion\n",
      "0   59      937      0.0937                 937                 0.0937\n",
      "1    2      901      0.0901                1838                 0.1838\n",
      "2   44      622      0.0622                2460                 0.2460\n",
      "3   12      551      0.0551                3011                 0.3011\n",
      "4   68      505      0.0505                3516                 0.3516\n",
      "..  ..      ...         ...                 ...                    ...\n",
      "95  57        0      0.0000               10000                 1.0000\n",
      "96  64        0      0.0000               10000                 1.0000\n",
      "97  65        0      0.0000               10000                 1.0000\n",
      "98  67        0      0.0000               10000                 1.0000\n",
      "99  99        0      0.0000               10000                 1.0000\n",
      "\n",
      "[100 rows x 5 columns]\n",
      "    id  fortune  cumulative_fortune\n",
      "0   99        0                   0\n",
      "1   57        0                   0\n",
      "2   23        0                   0\n",
      "3   24        0                   0\n",
      "4   54        0                   0\n",
      "..  ..      ...                 ...\n",
      "95  68      505                6989\n",
      "96  12      551                7540\n",
      "97  44      622                8162\n",
      "98   2      901                9063\n",
      "99  59      937               10000\n",
      "\n",
      "[100 rows x 3 columns]\n"
     ]
    },
    {
     "data": {
      "text/plain": "0.759988"
     },
     "execution_count": 25,
     "metadata": {},
     "output_type": "execute_result"
    }
   ],
   "source": [
    "analyse_wealth_gini_coefficient(result)"
   ],
   "metadata": {
    "collapsed": false,
    "ExecuteTime": {
     "end_time": "2023-05-30T06:15:11.614634600Z",
     "start_time": "2023-05-30T06:15:11.567721400Z"
    }
   }
  },
  {
   "cell_type": "code",
   "execution_count": 5,
   "outputs": [
    {
     "data": {
      "text/plain": "0.8799180159816224"
     },
     "execution_count": 5,
     "metadata": {},
     "output_type": "execute_result"
    }
   ],
   "source": [
    "result = pd.read_csv('result/part_three_result.csv',index_col=0)\n",
    "result.degree.corr(result['1500'])"
   ],
   "metadata": {
    "collapsed": false,
    "ExecuteTime": {
     "end_time": "2023-05-30T02:38:05.310875800Z",
     "start_time": "2023-05-30T02:38:05.255878Z"
    }
   }
  },
  {
   "cell_type": "code",
   "execution_count": null,
   "outputs": [],
   "source": [],
   "metadata": {
    "collapsed": false
   }
  }
 ],
 "metadata": {
  "kernelspec": {
   "display_name": "Python 3",
   "language": "python",
   "name": "python3"
  },
  "language_info": {
   "codemirror_mode": {
    "name": "ipython",
    "version": 2
   },
   "file_extension": ".py",
   "mimetype": "text/x-python",
   "name": "python",
   "nbconvert_exporter": "python",
   "pygments_lexer": "ipython2",
   "version": "2.7.6"
  }
 },
 "nbformat": 4,
 "nbformat_minor": 0
}
